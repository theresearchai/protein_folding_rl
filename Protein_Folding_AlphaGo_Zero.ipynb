{
 "cells": [
  {
   "cell_type": "code",
   "execution_count": 1,
   "metadata": {},
   "outputs": [],
   "source": [
    "import math\n",
    "import random\n",
    "import numpy as np\n",
    "import torch \n",
    "import torch.optim as optim\n",
    "import torch.nn as nn\n",
    "from copy import deepcopy\n",
    "import asyncio\n",
    "import nest_asyncio\n",
    "from HP2D_Env import HP2D\n",
    "from lattice2d_linear_env import Lattice2DLinearEnv\n",
    "from MCTS import MCTS\n",
    "from MCTSS import MCTSS, MCTSNode\n",
    "from models import DualRes\n",
    "import time\n",
    "from IPython.display import clear_output\n",
    "import matplotlib.pyplot as plt\n",
    "%matplotlib inline\n",
    "nest_asyncio.apply()"
   ]
  },
  {
   "cell_type": "code",
   "execution_count": 2,
   "metadata": {},
   "outputs": [
    {
     "name": "stdout",
     "output_type": "stream",
     "text": [
      "Using GPU: GPU requested and available.\n"
     ]
    }
   ],
   "source": [
    "USE_CUDA = torch.cuda.is_available()\n",
    "if USE_CUDA:\n",
    "    print(\"Using GPU: GPU requested and available.\")\n",
    "    dtype = torch.cuda.FloatTensor\n",
    "    dtypelong = torch.cuda.LongTensor\n",
    "else:\n",
    "    print(\"NOT Using GPU: GPU not requested or not available.\")\n",
    "    dtype = torch.FloatTensor\n",
    "    dtypelong = torch.LongTensor"
   ]
  },
  {
   "cell_type": "code",
   "execution_count": 3,
   "metadata": {},
   "outputs": [],
   "source": [
    "from collections import deque\n",
    "\n",
    "class ReplayBuffer(object):\n",
    "    def __init__(self, capacity):\n",
    "        self.buffer = deque(maxlen=capacity)\n",
    "\n",
    "    def push(self, state, prob, value):\n",
    "        state = np.expand_dims(state, 0)\n",
    "        self.buffer.append((state, prob, value))\n",
    "\n",
    "    def sample(self, batch_size):\n",
    "        state, prob, value = zip(*random.sample(self.buffer, batch_size))\n",
    "        return np.concatenate(state), prob, value\n",
    "\n",
    "    def __len__(self):\n",
    "        return len(self.buffer)\n",
    "    \n",
    "replay_size = 60000\n",
    "replay_buffer = ReplayBuffer(replay_size)"
   ]
  },
  {
   "cell_type": "code",
   "execution_count": 4,
   "metadata": {},
   "outputs": [],
   "source": [
    "grid_len = 61\n",
    "\n",
    "dualres = DualRes(10, 4, grid_len, USE_CUDA, blocks_sizes = [128], deepths = [5])\n",
    "best_player = deepcopy(dualres)\n",
    "\n",
    "if USE_CUDA:\n",
    "    dualres = dualres.cuda()\n",
    "    best_player = best_player.cuda()"
   ]
  },
  {
   "cell_type": "code",
   "execution_count": 5,
   "metadata": {},
   "outputs": [],
   "source": [
    "# test_model = DualRes(10, 4, grid_len, USE_CUDA, blocks_sizes = [128], deepths = [2])\n",
    "\n",
    "# if USE_CUDA:\n",
    "#     test_model = test_model.cuda()\n",
    "\n",
    "# Load pretrained params\n",
    "# test_model.load_state_dict(torch.load('test_model_pretrained.pt'))"
   ]
  },
  {
   "cell_type": "code",
   "execution_count": 6,
   "metadata": {},
   "outputs": [],
   "source": [
    "class AlphaLoss(nn.Module):\n",
    "    def __init__(self):\n",
    "        super(AlphaLoss, self).__init__()\n",
    "        \n",
    "    def forward(self, pred_v, v, pred_p, p):\n",
    "        ve = nn.MSELoss(reduction = 'none')\n",
    "        v_err = ve(pred_v.view(-1), v)\n",
    "        p_err = torch.sum((-p * (1e-15 + pred_p).log()), dim = 1)\n",
    "        tot_err = (v_err + p_err).mean()\n",
    "        return tot_err"
   ]
  },
  {
   "cell_type": "code",
   "execution_count": 7,
   "metadata": {},
   "outputs": [],
   "source": [
    "def compute_loss(net, batch_size, replay_buffer, optimizer, criterion):\n",
    "    state, p, v = replay_buffer.sample(batch_size)\n",
    "    state = torch.tensor(np.float32(state)).type(dtype)\n",
    "    p = torch.tensor(np.float32(p)).type(dtype)\n",
    "    v = torch.tensor(v).type(dtype)\n",
    "    \n",
    "    pred_p, pred_v = net(state)\n",
    "    optimizer.zero_grad()\n",
    "    loss = criterion(pred_v, v, pred_p, p)\n",
    "    loss.backward()\n",
    "    optimizer.step()\n",
    "    return loss"
   ]
  },
  {
   "cell_type": "code",
   "execution_count": 8,
   "metadata": {},
   "outputs": [],
   "source": [
    "def hard_update(q_network, target_q_network):\n",
    "    for t_param, param in zip(target_q_network.parameters(), q_network.parameters()):\n",
    "        if t_param is param:\n",
    "            continue\n",
    "        new_param = param.data\n",
    "        t_param.data.copy_(new_param)"
   ]
  },
  {
   "cell_type": "code",
   "execution_count": 9,
   "metadata": {},
   "outputs": [],
   "source": [
    "file = open('seqs.txt', 'r')\n",
    "seq_list = file.readlines()\n",
    "max_length = 6\n",
    "# Get sequences with length <= max_length\n",
    "seqs = [s for s in seq_list if len(s) <= max_length + 1]\n",
    "test_seqs = random.sample(seqs, len(seqs) // 10)\n",
    "train_seqs = [s for s in seqs if s not in test_seqs]"
   ]
  },
  {
   "cell_type": "markdown",
   "metadata": {},
   "source": [
    "## Pretrain"
   ]
  },
  {
   "cell_type": "code",
   "execution_count": 10,
   "metadata": {},
   "outputs": [],
   "source": [
    "# Fill replay buffer (training on sequences with length <= 15)\n",
    "ss = [s for s in train_seqs]\n",
    "for seq in ss:\n",
    "    root = MCTSNode(())\n",
    "    mcts = MCTSS(seq[:-1], 300, (10, grid_len, grid_len))\n",
    "    mcts.get_prob(root)\n",
    "    data = mcts.get_data(root)\n",
    "    for i in range(len(data)):\n",
    "        replay_buffer.push(data[i][0], data[i][1], data[i][2])"
   ]
  },
  {
   "cell_type": "code",
   "execution_count": 11,
   "metadata": {},
   "outputs": [],
   "source": [
    "# Train using pregenerated data, not neural net MCTS\n",
    "criterion = AlphaLoss()\n",
    "optimizer = optim.Adam(dualres.parameters(), lr = 0.001)\n",
    "losses = []\n",
    "\n",
    "# 10000 Epochs, 10 updates per epoch, batch size 32\n",
    "for ts in range(10):\n",
    "    for _ in range(10):\n",
    "        if len(replay_buffer) > 32:\n",
    "            loss = compute_loss(dualres, 32, replay_buffer, optimizer, criterion)\n",
    "            losses.append(loss)"
   ]
  },
  {
   "cell_type": "code",
   "execution_count": 12,
   "metadata": {},
   "outputs": [
    {
     "data": {
      "text/plain": [
       "[<matplotlib.lines.Line2D at 0x23d1ba4fd88>]"
      ]
     },
     "execution_count": 12,
     "metadata": {},
     "output_type": "execute_result"
    },
    {
     "data": {
      "image/png": "[encoded data removed]",
      "text/plain": [
       "<Figure size 432x288 with 1 Axes>"
      ]
     },
     "metadata": {
      "needs_background": "light"
     },
     "output_type": "display_data"
    }
   ],
   "source": [
    "plt.plot(losses)"
   ]
  },
  {
   "cell_type": "code",
   "execution_count": 13,
   "metadata": {
    "scrolled": false
   },
   "outputs": [
    {
     "data": {
      "text/plain": [
       "'\\n# Test pretrained model\\n\\nseq = \"HPHHPPHPHH\"\\nprint(seq)\\nenv = HP2D(seq, (10,11,11))\\ntenv = Lattice2DLinearEnv(seq)\\ntstate = tenv.reset()\\nstate = env.make_state()\\nfor t in range(len(seq) - 1):\\n    mcts   = MCTS(env, test_model, 300, cpuct = 5)\\n    pi     = mcts.get_prob(state, temp = 0)\\n    action = np.random.choice(len(pi), p = pi)\\n    state  = env.next_state(state, action)\\n    tenv.step(action)\\n    tenv.render()\\nprint(env.calc_score(state))\\n'"
      ]
     },
     "execution_count": 13,
     "metadata": {},
     "output_type": "execute_result"
    }
   ],
   "source": [
    "\"\"\"\n",
    "# Test pretrained model\n",
    "\n",
    "seq = \"HPHHPPHPHH\"\n",
    "print(seq)\n",
    "env = HP2D(seq, (10,11,11))\n",
    "tenv = Lattice2DLinearEnv(seq)\n",
    "tstate = tenv.reset()\n",
    "state = env.make_state()\n",
    "for t in range(len(seq) - 1):\n",
    "    mcts   = MCTS(env, test_model, 300, cpuct = 5)\n",
    "    pi     = mcts.get_prob(state, temp = 0)\n",
    "    action = np.random.choice(len(pi), p = pi)\n",
    "    state  = env.next_state(state, action)\n",
    "    tenv.step(action)\n",
    "    tenv.render()\n",
    "print(env.calc_score(state))\n",
    "\"\"\""
   ]
  },
  {
   "cell_type": "code",
   "execution_count": 14,
   "metadata": {},
   "outputs": [],
   "source": [
    "# Save pretrained model parameters\n",
    "torch.save(dualres.state_dict(), 'dualres_pretrained.pt')\n",
    "hard_update(dualres, best_player)"
   ]
  },
  {
   "cell_type": "code",
   "execution_count": 15,
   "metadata": {},
   "outputs": [
    {
     "data": {
      "text/plain": [
       "\"\\ntestenv = HP2D('HPPH', (10, 11, 11))\\nteststate = testenv.make_state()\\ntestpi, testv = test_model.predict(teststate)\\nprint(testpi, testv)\\nteststate = testenv.next_state(teststate, 0)\\ntestpi, testv = test_model.predict(teststate)\\nprint(testpi, testv)\\nteststate = testenv.next_state(teststate, 1)\\ntestpi, testv = test_model.predict(teststate)\\nprint(testpi, testv)\\nteststate = testenv.next_state(teststate, 3)\\ntestpi, testv = test_model.predict(teststate)\\nprint(testpi, testv)\\n\""
      ]
     },
     "execution_count": 15,
     "metadata": {},
     "output_type": "execute_result"
    }
   ],
   "source": [
    "\"\"\"\n",
    "testenv = HP2D('HPPH', (10, 11, 11))\n",
    "teststate = testenv.make_state()\n",
    "testpi, testv = test_model.predict(teststate)\n",
    "print(testpi, testv)\n",
    "teststate = testenv.next_state(teststate, 0)\n",
    "testpi, testv = test_model.predict(teststate)\n",
    "print(testpi, testv)\n",
    "teststate = testenv.next_state(teststate, 1)\n",
    "testpi, testv = test_model.predict(teststate)\n",
    "print(testpi, testv)\n",
    "teststate = testenv.next_state(teststate, 3)\n",
    "testpi, testv = test_model.predict(teststate)\n",
    "print(testpi, testv)\n",
    "\"\"\""
   ]
  },
  {
   "cell_type": "code",
   "execution_count": 16,
   "metadata": {
    "scrolled": false
   },
   "outputs": [
    {
     "data": {
      "text/plain": [
       "'\\n# Sequences with max length 5\\n\\nminitestseqs = random.sample(seqs, 10)\\nfor s in minitestseqs:\\n    env = HP2D(s[:-1], (10,11,11))\\n    tenv = Lattice2DLinearEnv(s[:-1])\\n    tenv.reset()\\n    state = env.make_state()\\n    for t in range(len(s) - 2):\\n        mcts   = MCTS(env, test_model, 300, cpuct = 5)\\n        pi     = mcts.get_prob(state, temp = 0)\\n        action = np.random.choice(len(pi), p = pi)\\n        state  = env.next_state(state, action)    \\n        tenv.step(action)\\n    tenv.render()\\n    print(env.calc_score(state))\\n'"
      ]
     },
     "execution_count": 16,
     "metadata": {},
     "output_type": "execute_result"
    }
   ],
   "source": [
    "\"\"\"\n",
    "# Sequences with max length 5\n",
    "\n",
    "minitestseqs = random.sample(seqs, 10)\n",
    "for s in minitestseqs:\n",
    "    env = HP2D(s[:-1], (10,11,11))\n",
    "    tenv = Lattice2DLinearEnv(s[:-1])\n",
    "    tenv.reset()\n",
    "    state = env.make_state()\n",
    "    for t in range(len(s) - 2):\n",
    "        mcts   = MCTS(env, test_model, 300, cpuct = 5)\n",
    "        pi     = mcts.get_prob(state, temp = 0)\n",
    "        action = np.random.choice(len(pi), p = pi)\n",
    "        state  = env.next_state(state, action)    \n",
    "        tenv.step(action)\n",
    "    tenv.render()\n",
    "    print(env.calc_score(state))\n",
    "\"\"\""
   ]
  },
  {
   "cell_type": "code",
   "execution_count": 17,
   "metadata": {},
   "outputs": [],
   "source": [
    "async def train():\n",
    "    criterion = AlphaLoss()\n",
    "    optimizer = optim.Adam(dualres.parameters(), lr = 0.001)\n",
    "    loss = []\n",
    "    for _ in range(10):\n",
    "        loss.append(compute_loss(dualres, batch_size, replay_buffer, optimizer, criterion))\n",
    "    return loss"
   ]
  },
  {
   "cell_type": "code",
   "execution_count": 18,
   "metadata": {},
   "outputs": [],
   "source": [
    "async def play(num_iter, num_games):\n",
    "    '''\n",
    "    Plays num_games games with the best network.\n",
    "    For each game, adds len(seq) - 1 data points (s_t, pi_t, z_t) to replay buffer.\n",
    "    '''\n",
    "    for g in range(num_games):\n",
    "        seq = random.sample(train_seqs, 1)[0][:-1]\n",
    "        # print(\"Game {} / {}: {}\".format(g + 1, num_games, seq))\n",
    "        env = HP2D(seq, (10, grid_len, grid_len))\n",
    "        states = []\n",
    "        probs = []\n",
    "        state = env.make_state()\n",
    "        for t in range(len(seq) - 1):\n",
    "            temp = int(t < len(seq) // 10)\n",
    "            mcts = MCTS(env, best_player, num_iter, cpuct = 5)\n",
    "            pi_t = mcts.get_prob(state, temp = temp)\n",
    "            sym = get_syms(state, pi_t)\n",
    "            for s, p in sym:\n",
    "                states.append(s)\n",
    "                probs.append(p)\n",
    "            action = np.random.choice(len(pi_t), p = pi_t)\n",
    "            state = env.next_state(state, action)\n",
    "        reward = env.calc_score(states[-1])\n",
    "        for i in range(len(states)):\n",
    "            replay_buffer.push(states[i], probs[i], reward)"
   ]
  },
  {
   "cell_type": "code",
   "execution_count": 19,
   "metadata": {},
   "outputs": [],
   "source": [
    "async def evaluate(num_iter, net):\n",
    "    '''\n",
    "    Evaluates using 10 games with current network, compare results to hypothetical maximum.\n",
    "    Returns a float between (0, 1): score / hyp_max score\n",
    "    '''\n",
    "    seqs = test_seqs\n",
    "    total = 0\n",
    "    for s in seqs:\n",
    "        env = HP2D(s[:-1], (10, grid_len, grid_len))\n",
    "        state = env.make_state()\n",
    "        for t in range(len(s) - 1):\n",
    "            mcts   = MCTS(env, net, num_iter, cpuct = 5)\n",
    "            pi     = mcts.get_prob(state, temp = 0)\n",
    "            action = np.random.choice(len(pi), p = pi)\n",
    "            state  = env.next_state(state, action)    \n",
    "        total += env.calc_score(state)\n",
    "    return total / 10"
   ]
  },
  {
   "cell_type": "code",
   "execution_count": 20,
   "metadata": {},
   "outputs": [],
   "source": [
    "def get_syms(state, pi):\n",
    "    \"\"\"\n",
    "    Input:\n",
    "        board: current board\n",
    "        pi: policy vector of size self.get_prob()\n",
    "    Returns:\n",
    "        symmForms: a list of [(board,pi)] where each tuple is a symmetrical\n",
    "                   form of the board and the corresponding pi vector. This\n",
    "                   is used when training the neural network from examples.\n",
    "    \"\"\"\n",
    "    assert(len(pi) == 4)\n",
    "    l = []\n",
    "    \n",
    "    def rotate(pi, n):\n",
    "        for _ in range(n):\n",
    "            temp = pi\n",
    "            pi = [temp[1], temp[3], temp[0], temp[2]]\n",
    "        return pi\n",
    "    \n",
    "    def flip(pi):\n",
    "        return [pi[3], pi[1], pi[2], pi[0]]\n",
    "        \n",
    "    for i in range(1, 5):\n",
    "        for j in [True, False]:\n",
    "            new_state = np.rot90(state, i, (1, 2))\n",
    "            new_pi = rotate(pi, i)\n",
    "            if j:\n",
    "                new_state = np.fliplr(new_state)\n",
    "                new_pi = flip(new_pi)\n",
    "            l += [(new_state, new_pi)]\n",
    "    return l"
   ]
  },
  {
   "cell_type": "code",
   "execution_count": 21,
   "metadata": {},
   "outputs": [],
   "source": [
    "async def main(num_timesteps, num_games, num_iter, batch_size):\n",
    "    '''\n",
    "    Executing play, train, evaluate asynchronously in parallel.\n",
    "    '''\n",
    "\n",
    "    losses = []\n",
    "    scores = []\n",
    "\n",
    "    for ts in range(1, num_timesteps + 1):\n",
    "        # clear_output(wait = True)\n",
    "        # print('Timestep {} / {}'.format(ts, num_timesteps))\n",
    "        flag = False\n",
    "        \n",
    "        # Data generation\n",
    "        playing = loop.create_task(play(num_iter, num_games))\n",
    "\n",
    "        # Update params\n",
    "        if len(replay_buffer) > batch_size:\n",
    "            training = loop.create_task(train())\n",
    "            flag = True\n",
    "        \n",
    "        # Evaluate agent\n",
    "        if ts % 200 == 0:\n",
    "            evaluating_best = loop.create_task(evaluate(num_iter, best_player))\n",
    "            evaluating_curr = loop.create_task(evaluate(num_iter, dualres))\n",
    "            await asyncio.wait([playing, training, evaluating_best, evaluating_curr])\n",
    "            \n",
    "            score = evaluating_curr.result()\n",
    "            scores.append(score)\n",
    "            if evaluating_curr.result() > evaluating_best.result():\n",
    "                hard_update(dualres, best_player)\n",
    "        else:\n",
    "            if flag:\n",
    "                await asyncio.wait([playing, training])\n",
    "            \n",
    "                loss = training.result()\n",
    "                losses.append(float(sum(loss)/10))\n",
    "            else:\n",
    "                await asyncio.wait([playing])\n",
    "\n",
    "    return losses, scores"
   ]
  },
  {
   "cell_type": "code",
   "execution_count": 22,
   "metadata": {
    "scrolled": true
   },
   "outputs": [
    {
     "name": "stdout",
     "output_type": "stream",
     "text": [
      "Timestep 1 / 100\n",
      "Timestep 2 / 100\n",
      "Timestep 3 / 100\n",
      "Timestep 4 / 100\n",
      "Timestep 5 / 100\n",
      "Timestep 6 / 100\n",
      "Timestep 7 / 100\n",
      "Timestep 8 / 100\n",
      "Timestep 9 / 100\n",
      "Timestep 10 / 100\n",
      "Timestep 11 / 100\n",
      "Timestep 12 / 100\n",
      "Timestep 13 / 100\n",
      "Timestep 14 / 100\n",
      "Timestep 15 / 100\n",
      "Timestep 16 / 100\n",
      "Timestep 17 / 100\n",
      "Timestep 18 / 100\n",
      "Timestep 19 / 100\n",
      "Timestep 20 / 100\n",
      "Timestep 21 / 100\n",
      "Timestep 22 / 100\n",
      "Timestep 23 / 100\n",
      "Timestep 24 / 100\n",
      "Timestep 25 / 100\n",
      "Timestep 26 / 100\n",
      "Timestep 27 / 100\n",
      "Timestep 28 / 100\n",
      "Timestep 29 / 100\n",
      "Timestep 30 / 100\n",
      "Timestep 31 / 100\n",
      "Timestep 32 / 100\n",
      "Timestep 33 / 100\n",
      "Timestep 34 / 100\n",
      "Timestep 35 / 100\n",
      "Timestep 36 / 100\n",
      "Timestep 37 / 100\n",
      "Timestep 38 / 100\n",
      "Timestep 39 / 100\n",
      "Timestep 40 / 100\n",
      "Timestep 41 / 100\n",
      "Timestep 42 / 100\n",
      "Timestep 43 / 100\n",
      "Timestep 44 / 100\n",
      "Timestep 45 / 100\n",
      "Timestep 46 / 100\n",
      "Timestep 47 / 100\n",
      "Timestep 48 / 100\n",
      "Timestep 49 / 100\n",
      "Timestep 50 / 100\n",
      "Timestep 51 / 100\n",
      "Timestep 52 / 100\n",
      "Timestep 53 / 100\n",
      "Timestep 54 / 100\n",
      "Timestep 55 / 100\n",
      "Timestep 56 / 100\n",
      "Timestep 57 / 100\n",
      "Timestep 58 / 100\n",
      "Timestep 59 / 100\n",
      "Timestep 60 / 100\n",
      "Timestep 61 / 100\n",
      "Timestep 62 / 100\n",
      "Timestep 63 / 100\n",
      "Timestep 64 / 100\n",
      "Timestep 65 / 100\n",
      "Timestep 66 / 100\n",
      "Timestep 67 / 100\n",
      "Timestep 68 / 100\n",
      "Timestep 69 / 100\n",
      "Timestep 70 / 100\n",
      "Timestep 71 / 100\n",
      "Timestep 72 / 100\n",
      "Timestep 73 / 100\n",
      "Timestep 74 / 100\n",
      "Timestep 75 / 100\n",
      "Timestep 76 / 100\n",
      "Timestep 77 / 100\n",
      "Timestep 78 / 100\n",
      "Timestep 79 / 100\n",
      "Timestep 80 / 100\n",
      "Timestep 81 / 100\n",
      "Timestep 82 / 100\n",
      "Timestep 83 / 100\n",
      "Timestep 84 / 100\n",
      "Timestep 85 / 100\n",
      "Timestep 86 / 100\n",
      "Timestep 87 / 100\n",
      "Timestep 88 / 100\n",
      "Timestep 89 / 100\n",
      "Timestep 90 / 100\n",
      "Timestep 91 / 100\n",
      "Timestep 92 / 100\n",
      "Timestep 93 / 100\n",
      "Timestep 94 / 100\n",
      "Timestep 95 / 100\n",
      "Timestep 96 / 100\n",
      "Timestep 97 / 100\n",
      "Timestep 98 / 100\n",
      "Timestep 99 / 100\n",
      "Timestep 100 / 100\n",
      "271.21658730506897\n"
     ]
    }
   ],
   "source": [
    "num_timesteps = 100\n",
    "num_games = 5\n",
    "num_iter = 10\n",
    "batch_size = 32\n",
    "\n",
    "loop = asyncio.get_event_loop()\n",
    "\n",
    "t0 = time.time()\n",
    "losses, scores = loop.run_until_complete(main(num_timesteps, num_games, num_iter, batch_size))\n",
    "t1 = time.time()\n",
    "print(t1 - t0)"
   ]
  },
  {
   "cell_type": "code",
   "execution_count": 23,
   "metadata": {},
   "outputs": [],
   "source": [
    "torch.save(best_player.state_dict(), 'PFZeroNet.pt')"
   ]
  },
  {
   "cell_type": "code",
   "execution_count": 24,
   "metadata": {},
   "outputs": [],
   "source": [
    "# model = DualRes(10, 4, USE_CUDA)\n",
    "# if USE_CUDA:\n",
    "#     model = model.cuda()\n",
    "# model.load_state_dict(torch.load('PFZeroNet.pt'))"
   ]
  },
  {
   "cell_type": "code",
   "execution_count": 26,
   "metadata": {
    "scrolled": true
   },
   "outputs": [
    {
     "data": {
      "image/png": "[encoded data removed]",
      "text/plain": [
       "<Figure size 1440x576 with 2 Axes>"
      ]
     },
     "metadata": {
      "needs_background": "light"
     },
     "output_type": "display_data"
    }
   ],
   "source": [
    "import matplotlib.pyplot as plt\n",
    "\n",
    "plt.figure(figsize = (20, 8))\n",
    "plt.subplot(121)\n",
    "plt.title(\"Rewards\")\n",
    "plt.plot(scores)\n",
    "plt.subplot(122)\n",
    "plt.title(\"Loss\")\n",
    "plt.plot(losses)\n",
    "plt.savefig('AGZRewardsLosses.pdf')"
   ]
  },
  {
   "cell_type": "code",
   "execution_count": null,
   "metadata": {},
   "outputs": [],
   "source": []
  },
  {
   "cell_type": "code",
   "execution_count": null,
   "metadata": {},
   "outputs": [],
   "source": []
  }
 ],
 "metadata": {
  "kernelspec": {
   "display_name": "Python 3",
   "language": "python",
   "name": "python3"
  },
  "language_info": {
   "codemirror_mode": {
    "name": "ipython",
    "version": 3
   },
   "file_extension": ".py",
   "mimetype": "text/x-python",
   "name": "python",
   "nbconvert_exporter": "python",
   "pygments_lexer": "ipython3",
   "version": "3.7.6"
  }
 },
 "nbformat": 4,
 "nbformat_minor": 2
}
