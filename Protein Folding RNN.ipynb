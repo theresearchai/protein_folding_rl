{
 "cells": [
  {
   "cell_type": "code",
   "execution_count": 1,
   "metadata": {},
   "outputs": [],
   "source": [
    "import math\n",
    "import random\n",
    "import numpy as np\n",
    "import torch \n",
    "import torch.optim as optim\n",
    "import torch.nn as nn\n",
    "from copy import deepcopy\n",
    "import asyncio\n",
    "import nest_asyncio\n",
    "from HP2D_Env import HP2D\n",
    "from lattice2d_linear_env import Lattice2DLinearEnv\n",
    "from MCTS import MCTS\n",
    "from MCTS_RNN import MCTS_RNN, MCTSNode\n",
    "from models import RNN, GRUNet\n",
    "from tqdm import tqdm\n",
    "import time\n",
    "from IPython.display import clear_output\n",
    "import matplotlib.pyplot as plt\n",
    "%matplotlib inline\n",
    "nest_asyncio.apply()"
   ]
  },
  {
   "cell_type": "code",
   "execution_count": 2,
   "metadata": {},
   "outputs": [
    {
     "name": "stdout",
     "output_type": "stream",
     "text": [
      "Using GPU: GPU requested and available.\n"
     ]
    }
   ],
   "source": [
    "USE_CUDA = torch.cuda.is_available()\n",
    "if USE_CUDA:\n",
    "    print(\"Using GPU: GPU requested and available.\")\n",
    "    dtype = torch.cuda.FloatTensor\n",
    "    dtypelong = torch.cuda.LongTensor\n",
    "else:\n",
    "    print(\"NOT Using GPU: GPU not requested or not available.\")\n",
    "    dtype = torch.FloatTensor\n",
    "    dtypelong = torch.LongTensor"
   ]
  },
  {
   "cell_type": "code",
   "execution_count": 3,
   "metadata": {},
   "outputs": [],
   "source": [
    "from collections import deque\n",
    "\n",
    "class ReplayBuffer(object):\n",
    "    def __init__(self, capacity):\n",
    "        self.buffer = deque(maxlen=capacity)\n",
    "\n",
    "    def push(self, state, prob, value):\n",
    "        self.buffer.append((state, prob, value))\n",
    "\n",
    "    def sample(self, batch_size):\n",
    "        state, prob, value = zip(*random.sample(self.buffer, batch_size))\n",
    "        return state, prob, value\n",
    "\n",
    "    def __len__(self):\n",
    "        return len(self.buffer)\n",
    "    \n",
    "replay_size = 60000\n",
    "replay_buffer = ReplayBuffer(replay_size)"
   ]
  },
  {
   "cell_type": "code",
   "execution_count": 4,
   "metadata": {},
   "outputs": [],
   "source": [
    "rnn = RNN(10, 4, 11, 128, USE_CUDA)\n",
    "gru = GRUNet(10, 4, 128, USE_CUDA)\n",
    "\n",
    "if USE_CUDA:\n",
    "    rnn = rnn.cuda()\n",
    "    gru = gru.cuda()"
   ]
  },
  {
   "cell_type": "code",
   "execution_count": 5,
   "metadata": {},
   "outputs": [],
   "source": [
    "class AlphaLoss(nn.Module):\n",
    "    def __init__(self):\n",
    "        super(AlphaLoss, self).__init__()\n",
    "        \n",
    "    def forward(self, pred_v, v, pred_p, p):\n",
    "        ve = nn.MSELoss(reduction = 'none')\n",
    "        v_err = ve(pred_v.view(-1), v)\n",
    "        p_err = torch.sum((-p * (1e-15 + pred_p).log()), dim = 1)\n",
    "        tot_err = (v_err + p_err).mean()\n",
    "        return tot_err"
   ]
  },
  {
   "cell_type": "code",
   "execution_count": 6,
   "metadata": {},
   "outputs": [],
   "source": [
    "def compute_loss(net, batch_size, replay_buffer, optimizer, criterion):\n",
    "    state, p, v = replay_buffer.sample(batch_size)\n",
    "    state = torch.tensor(np.float32(state)).type(dtype)\n",
    "    p = torch.tensor(np.float32(p)).type(dtype)\n",
    "    v = torch.tensor(v).type(dtype)\n",
    "    \n",
    "    hidden = net.init_hidden()\n",
    "    hidden = torch.tensor(np.float32(hidden)).type(dtype)\n",
    "    optimizer.zero_grad()\n",
    "    \n",
    "    \n",
    "    for i in range(state[0].size()[0]):\n",
    "        pred_p, pred_v, hidden = net(state[0][i].unsqueeze(0), hidden)\n",
    "        \n",
    "    loss = criterion(pred_v, v, pred_p, p)\n",
    "    loss.backward()\n",
    "    optimizer.step()\n",
    "    return loss"
   ]
  },
  {
   "cell_type": "code",
   "execution_count": 7,
   "metadata": {},
   "outputs": [],
   "source": [
    "file = open('seqs.txt', 'r')\n",
    "seq_list = file.readlines()\n",
    "max_length = 5\n",
    "# Get sequences with length <= max_length\n",
    "seqs = [s for s in seq_list if len(s) <= max_length + 1]\n",
    "test_seqs = random.sample(seqs, len(seqs) // 10)\n",
    "train_seqs = [s for s in seqs if s not in test_seqs]"
   ]
  },
  {
   "cell_type": "markdown",
   "metadata": {},
   "source": [
    "# Pretrain"
   ]
  },
  {
   "cell_type": "code",
   "execution_count": 8,
   "metadata": {},
   "outputs": [
    {
     "name": "stderr",
     "output_type": "stream",
     "text": [
      "100%|██████████| 48/48 [00:08<00:00,  5.54it/s]\n"
     ]
    }
   ],
   "source": [
    "# Fill replay buffer (training on sequences with length <= 15)\n",
    "ss = [s for s in seq_list if len(s) <= 6]\n",
    "for seq in tqdm(ss):\n",
    "    root = MCTSNode(())\n",
    "    mcts = MCTS_RNN(seq[:-1], 300, (10,11,11))\n",
    "    mcts.get_prob(root)\n",
    "    data = mcts.get_data(root)\n",
    "    for i in range(len(data)):\n",
    "        replay_buffer.push(data[i][0], data[i][1], data[i][2])"
   ]
  },
  {
   "cell_type": "code",
   "execution_count": 9,
   "metadata": {},
   "outputs": [
    {
     "name": "stderr",
     "output_type": "stream",
     "text": [
      "100%|██████████| 10000/10000 [01:52<00:00, 89.15it/s]\n"
     ]
    }
   ],
   "source": [
    "# Train using pregenerated data, not neural net MCTS\n",
    "criterion = AlphaLoss()\n",
    "optimizer = optim.Adam(rnn.parameters(), lr = 0.001)\n",
    "gru_losses = []\n",
    "\n",
    "# 10000 Epochs, 10 updates per epoch, batch size 32\n",
    "for ts in tqdm(range(10000)):\n",
    "    if len(replay_buffer) >= 1:\n",
    "        loss = compute_loss(gru, 1, replay_buffer, optimizer, criterion)\n",
    "        gru_losses.append(loss)"
   ]
  },
  {
   "cell_type": "code",
   "execution_count": 10,
   "metadata": {},
   "outputs": [
    {
     "data": {
      "text/plain": [
       "[<matplotlib.lines.Line2D at 0x1e55af18208>]"
      ]
     },
     "execution_count": 10,
     "metadata": {},
     "output_type": "execute_result"
    },
    {
     "data": {
      "image/png": "[encoded data removed]",
      "text/plain": [
       "<Figure size 432x288 with 1 Axes>"
      ]
     },
     "metadata": {
      "needs_background": "light"
     },
     "output_type": "display_data"
    }
   ],
   "source": [
    "plt.plot(gru_losses)"
   ]
  },
  {
   "cell_type": "code",
   "execution_count": 11,
   "metadata": {},
   "outputs": [
    {
     "name": "stderr",
     "output_type": "stream",
     "text": [
      "100%|██████████| 10000/10000 [02:41<00:00, 61.78it/s]\n"
     ]
    }
   ],
   "source": [
    "# Train using pregenerated data, not neural net MCTS\n",
    "criterion = AlphaLoss()\n",
    "optimizer = optim.Adam(rnn.parameters(), lr = 0.001)\n",
    "rnn_losses = []\n",
    "\n",
    "# 10000 Epochs, 10 updates per epoch, batch size 32\n",
    "for ts in tqdm(range(10000)):\n",
    "    if len(replay_buffer) >= 1:\n",
    "        loss = compute_loss(rnn, 1, replay_buffer, optimizer, criterion)\n",
    "        rnn_losses.append(loss)"
   ]
  },
  {
   "cell_type": "code",
   "execution_count": 12,
   "metadata": {},
   "outputs": [
    {
     "data": {
      "text/plain": [
       "[<matplotlib.lines.Line2D at 0x1e59a553508>]"
      ]
     },
     "execution_count": 12,
     "metadata": {},
     "output_type": "execute_result"
    },
    {
     "data": {
      "image/png": "[encoded data removed]",
      "text/plain": [
       "<Figure size 432x288 with 1 Axes>"
      ]
     },
     "metadata": {
      "needs_background": "light"
     },
     "output_type": "display_data"
    }
   ],
   "source": [
    "plt.plot(rnn_losses)"
   ]
  },
  {
   "cell_type": "code",
   "execution_count": null,
   "metadata": {},
   "outputs": [],
   "source": []
  }
 ],
 "metadata": {
  "kernelspec": {
   "display_name": "Python 3",
   "language": "python",
   "name": "python3"
  },
  "language_info": {
   "codemirror_mode": {
    "name": "ipython",
    "version": 3
   },
   "file_extension": ".py",
   "mimetype": "text/x-python",
   "name": "python",
   "nbconvert_exporter": "python",
   "pygments_lexer": "ipython3",
   "version": "3.7.6"
  }
 },
 "nbformat": 4,
 "nbformat_minor": 4
}
