{
 "cells": [
  {
   "cell_type": "code",
   "execution_count": null,
   "metadata": {},
   "outputs": [],
   "source": [
    "import numpy as np\n",
    "from MC_Simulations_Chain import MCChain\n",
    "from AGZChainEnv import Chain\n",
    "from Chain_Env import ChainEnv\n",
    "import matplotlib.pyplot as plt"
   ]
  },
  {
   "cell_type": "code",
   "execution_count": null,
   "metadata": {},
   "outputs": [],
   "source": [
    "#seq = \"HHHHPPPPHHHHHHHHHHHHPPPPPPHHHHHHHHHHHHPPPHHHHHHHHHHHHPPPHHHHHHHHHHHHPPPHPPHHPPHHPPPHPH\"\n",
    "seq = \"HPHPPHHPHPPHPHHPPHPH\"\n",
    "max_len = 25\n",
    "grid_len = 100\n",
    "max_moves = 750\n",
    "env = Chain(seq, max_len = max_len, grid_len = grid_len, max_moves = max_moves)\n",
    "mc_sim = MCChain(env, max_moves)\n",
    "state = env.make_state()"
   ]
  },
  {
   "cell_type": "code",
   "execution_count": null,
   "metadata": {},
   "outputs": [],
   "source": [
    "scores = []\n",
    "rewards = []\n",
    "for i in range(50):\n",
    "    mc_sim = MCChain(env, max_moves)\n",
    "    score, info = mc_sim.sim(state, 1)\n",
    "    scores.append(score)\n",
    "    rewards.append(info['Rewards'])"
   ]
  },
  {
   "cell_type": "code",
   "execution_count": null,
   "metadata": {},
   "outputs": [],
   "source": [
    "def summary(rewards, scores):\n",
    "    plt.figure(figsize = (20,8))\n",
    "    plt.subplot(121)\n",
    "    plt.title(\"Rewards\")\n",
    "    for i in range(len(rewards)):\n",
    "        plt.plot(rewards[i])\n",
    "    plt.subplot(122)\n",
    "    plt.title(\"Score Distribution\")\n",
    "    plt.hist(scores)\n",
    "    plt.savefig('MCSimulationSummary.pdf')"
   ]
  },
  {
   "cell_type": "code",
   "execution_count": null,
   "metadata": {},
   "outputs": [],
   "source": [
    "summary(rewards, scores)"
   ]
  },
  {
   "cell_type": "code",
   "execution_count": null,
   "metadata": {},
   "outputs": [],
   "source": [
    "def plot(info, save = False, net = \"Linear\"):\n",
    "    plt.figure(figsize = (20,8))\n",
    "    plt.subplot(121)\n",
    "    plt.title(\"Reject rate\")\n",
    "    plt.scatter(np.linspace(0, 100, len(info['Reject_rate'])), info['Reject_rate'], s = 0.75)\n",
    "    plt.subplot(122)\n",
    "    plt.title(\"Reward\")\n",
    "    plt.plot(info['Rewards'])\n",
    "    if save: plt.savefig('MCSimulations.pdf'.format(net))\n",
    "    plt.show()"
   ]
  },
  {
   "cell_type": "code",
   "execution_count": null,
   "metadata": {},
   "outputs": [],
   "source": [
    "def show(seq, info):\n",
    "    visual_env = ChainEnv(seq, max_len = max_len, grid_len = grid_len)\n",
    "    for a in info['Actions']:\n",
    "        visual_env.step(a)\n",
    "    visual_env.render()"
   ]
  },
  {
   "cell_type": "code",
   "execution_count": null,
   "metadata": {},
   "outputs": [],
   "source": [
    "max_scores = []\n",
    "for i in range(50):\n",
    "    max_scores.append(max(rewards[i]))\n",
    "plt.hist(max_scores)\n",
    "plt.savefig(\"MCSimMaxScores.pdf\")"
   ]
  },
  {
   "cell_type": "markdown",
   "metadata": {},
   "source": [
    "Took 4 hrs 4 mins 39 secs for running 50 simulations of length 750 for a sequence of length 20"
   ]
  },
  {
   "cell_type": "code",
   "execution_count": null,
   "metadata": {},
   "outputs": [],
   "source": []
  }
 ],
 "metadata": {
  "kernelspec": {
   "display_name": "Python 3",
   "language": "python",
   "name": "python3"
  },
  "language_info": {
   "codemirror_mode": {
    "name": "ipython",
    "version": 3
   },
   "file_extension": ".py",
   "mimetype": "text/x-python",
   "name": "python",
   "nbconvert_exporter": "python",
   "pygments_lexer": "ipython3",
   "version": "3.7.6"
  }
 },
 "nbformat": 4,
 "nbformat_minor": 4
}
